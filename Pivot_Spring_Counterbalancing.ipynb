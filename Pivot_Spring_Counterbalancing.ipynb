{
  "nbformat": 4,
  "nbformat_minor": 0,
  "metadata": {
    "colab": {
      "name": "Pivot Spring Counterbalancing",
      "provenance": [],
      "collapsed_sections": [],
      "authorship_tag": "ABX9TyOzorZxIfbmnMcLL5QHFw1m",
      "include_colab_link": true
    },
    "kernelspec": {
      "name": "python3",
      "display_name": "Python 3"
    }
  },
  "cells": [
    {
      "cell_type": "markdown",
      "metadata": {
        "id": "view-in-github",
        "colab_type": "text"
      },
      "source": [
        "<a href=\"https://colab.research.google.com/github/KaustubhKhulbe/PneumaticCalcs/blob/main/Pivot_Spring_Counterbalancing.ipynb\" target=\"_parent\"><img src=\"https://colab.research.google.com/assets/colab-badge.svg\" alt=\"Open In Colab\"/></a>"
      ]
    },
    {
      "cell_type": "markdown",
      "metadata": {
        "id": "lc5xiMDy1JDz"
      },
      "source": [
        "#***Spring Counter Balancing on Pivot***\n"
      ]
    },
    {
      "cell_type": "markdown",
      "metadata": {
        "id": "fykPSEMbETWf"
      },
      "source": [
        "###Imports"
      ]
    },
    {
      "cell_type": "code",
      "metadata": {
        "id": "KGgNrg1q1ALY"
      },
      "source": [
        "import math\n",
        "import numpy as np\n",
        "import matplotlib.pyplot as plt"
      ],
      "execution_count": 238,
      "outputs": []
    },
    {
      "cell_type": "markdown",
      "metadata": {
        "id": "7hiR5hRIEX2R"
      },
      "source": [
        "###Inputs\n",
        "\n",
        "***pivot*** - vector of pivot (grounded at (0, 0))\n",
        "\n",
        "***cog*** - vector of cog from base of pivot\n",
        "\n",
        "***weight*** - mass of bot in kg\n",
        "\n",
        "***grounded_mount*** - fixed position of the spring\n",
        "\n",
        "***dist from pivot to mount*** - not fixed / moving part\n"
      ]
    },
    {
      "cell_type": "code",
      "metadata": {
        "id": "_nl3rsvb6ZDv"
      },
      "source": [
        "#pivot inputs\n",
        "pivot = np.array([[0., 0.], [5., 5.]])\n",
        "cog = np.array([[0., 0.], [1., 1.]]) #This is a point\n",
        "weight = 10 #in kg\n",
        "\n",
        "#spring inputs\n",
        "grounded_mount = np.array([1., 1.])\n",
        "dist_from_pivot_to_mount = 20\n",
        "spring_const = 10"
      ],
      "execution_count": 239,
      "outputs": []
    },
    {
      "cell_type": "markdown",
      "metadata": {
        "id": "5iy_1uLJE6uq"
      },
      "source": [
        "Gets the length of the $pivot$ and the distance from pivot ground to $cog$"
      ]
    },
    {
      "cell_type": "code",
      "metadata": {
        "id": "h-bdXPQ7EPXj"
      },
      "source": [
        "piv_len = np.linalg.norm(pivot)\n",
        "\n",
        "cog_dist = np.linalg.norm(cog)"
      ],
      "execution_count": 240,
      "outputs": []
    },
    {
      "cell_type": "markdown",
      "metadata": {
        "id": "QbflMXxNFClV"
      },
      "source": [
        "###Gives the cog as pivot moves around\n",
        "Usees the unit vector of input pivot"
      ]
    },
    {
      "cell_type": "code",
      "metadata": {
        "id": "dX4cj9fc6034"
      },
      "source": [
        "def get_cog_from_pivot(piv):\n",
        "  pivot_unit_vec = piv / np.linalg.norm(piv)\n",
        "  \n",
        "\n",
        "  cog_vec = pivot_unit_vec * cog_dist\n",
        "\n",
        "  return cog_vec"
      ],
      "execution_count": 241,
      "outputs": []
    },
    {
      "cell_type": "markdown",
      "metadata": {
        "id": "9CmfkveXFNND"
      },
      "source": [
        "##Torque\n",
        "Gives torque based on above calculation\n",
        "\n",
        "$T_f = R_ (cg)  x W$"
      ]
    },
    {
      "cell_type": "code",
      "metadata": {
        "id": "qV0S6fTa_Tdv"
      },
      "source": [
        "def torque(cogVec):\n",
        "  weight_vec = np.array([cogVec[1], [cogVec[1][0], cogVec[1][1] + weight * 9.81]])\n",
        "  torque = np.cross(cogVec, weight_vec)\n",
        "  return torque"
      ],
      "execution_count": 242,
      "outputs": []
    },
    {
      "cell_type": "markdown",
      "metadata": {
        "id": "4XyeMeQgI9s7"
      },
      "source": [
        "###Gives sub-calculation values\n",
        "\n",
        "\n",
        "#####Given a pivot, it outputs the spring vector (start, end) and the pivot vector"
      ]
    },
    {
      "cell_type": "code",
      "metadata": {
        "id": "8O3isx_CDvKK"
      },
      "source": [
        "def vectorGivenPivot(piv):\n",
        "  pivot_unit_vec = piv / np.linalg.norm(piv)\n",
        "\n",
        "  pivMount = pivot_unit_vec * dist_from_pivot_to_mount\n",
        "\n",
        "  dist = (pivMount[1] - grounded_mount)\n",
        "\n",
        "  return dist, pivMount"
      ],
      "execution_count": 243,
      "outputs": []
    },
    {
      "cell_type": "markdown",
      "metadata": {
        "id": "XcHcWNgHJNO5"
      },
      "source": [
        "###Gives the torque the spring applies\n",
        "\n",
        "$T_s F_s x r$ "
      ]
    },
    {
      "cell_type": "code",
      "metadata": {
        "id": "IOyJmvLjGQkj"
      },
      "source": [
        "def torqueOfSpring(dist, pivMount):\n",
        "  F_s = spring_const * dist\n",
        "  T_s = np.cross(pivMount, F_s)\n",
        "\n",
        "  return T_s"
      ],
      "execution_count": 244,
      "outputs": []
    },
    {
      "cell_type": "markdown",
      "metadata": {
        "id": "hNbVwVyWJRyB"
      },
      "source": [
        "#Plotting everything!"
      ]
    },
    {
      "cell_type": "code",
      "metadata": {
        "colab": {
          "base_uri": "https://localhost:8080/",
          "height": 298
        },
        "id": "qs-eSTaRHZTD",
        "outputId": "779b7f66-41fe-4899-af46-70e3abda4cba"
      },
      "source": [
        "x = np.linspace(90, 180, 90)\n",
        "y = x.copy()\n",
        "y2 = x.copy()\n",
        "for i in range(len(x)):\n",
        "    temp_piv = np.array([\n",
        "                         [0., 0.],\n",
        "                         [piv_len * np.cos(np.radians(x[i])), piv_len * np.sin(np.radians(x[i]))]\n",
        "    ])\n",
        "\n",
        "    p1, p2 = vectorGivenPivot(temp_piv)\n",
        "\n",
        "    y[i] = np.linalg.norm(torqueOfSpring(p1,p2))\n",
        "    y2[i] = np.linalg.norm(torque(get_cog_from_pivot(temp_piv)))\n",
        "\n",
        "plt.title(\"torque due to gravity\")\n",
        "plt.plot(x, y)\n",
        "plt.plot(x, y2)"
      ],
      "execution_count": 245,
      "outputs": [
        {
          "output_type": "execute_result",
          "data": {
            "text/plain": [
              "[<matplotlib.lines.Line2D at 0x7f3eaf27fda0>]"
            ]
          },
          "metadata": {
            "tags": []
          },
          "execution_count": 245
        },
        {
          "output_type": "display_data",
          "data": {
            "image/png": "[encoded data removed]",
            "text/plain": [
              "<Figure size 432x288 with 1 Axes>"
            ]
          },
          "metadata": {
            "tags": [],
            "needs_background": "light"
          }
        }
      ]
    }
  ]
}