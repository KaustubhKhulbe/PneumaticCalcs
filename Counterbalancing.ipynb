{
  "nbformat": 4,
  "nbformat_minor": 0,
  "metadata": {
    "colab": {
      "name": "Counterbalancing",
      "provenance": [],
      "collapsed_sections": [],
      "include_colab_link": true
    },
    "kernelspec": {
      "name": "python3",
      "display_name": "Python 3"
    }
  },
  "cells": [
    {
      "cell_type": "markdown",
      "metadata": {
        "id": "view-in-github",
        "colab_type": "text"
      },
      "source": [
        "<a href=\"https://colab.research.google.com/github/KaustubhKhulbe/PneumaticCalcs/blob/main/Counterbalancing.ipynb\" target=\"_parent\"><img src=\"https://colab.research.google.com/assets/colab-badge.svg\" alt=\"Open In Colab\"/></a>"
      ]
    },
    {
      "cell_type": "markdown",
      "metadata": {
        "id": "8XW1dZmgaDoF"
      },
      "source": [
        "###Import statments"
      ]
    },
    {
      "cell_type": "code",
      "metadata": {
        "id": "UyeetXK4SHug"
      },
      "source": [
        "import numpy as np\n",
        "import math\n",
        "import matplotlib.pyplot as plt"
      ],
      "execution_count": 357,
      "outputs": []
    },
    {
      "cell_type": "markdown",
      "metadata": {
        "id": "KQhQoLUmaIDw"
      },
      "source": [
        "###Inputs\n",
        "***`pivot`*** - vector of pivot assuming the pivot is grounded at (0, 0)\n",
        "\n",
        "***`cog`*** - center of gravity of pivot with same assumption as above\n",
        "\n",
        "***`mass`*** - mass of pivot in kg\n",
        "\n",
        "---\n",
        "\n",
        "***`fixed_mount`*** - the point the spring is rigidly attached to\n",
        "\n",
        "***`pivot_mount_dist`*** - the distance from pivot to spring mount\n"
      ]
    },
    {
      "cell_type": "code",
      "metadata": {
        "id": "a4XFENLNSM63"
      },
      "source": [
        "#Pivot inputs\n",
        "pivot = np.array([5., 5.]) #Vector from (0,0) to (5,5)\n",
        "cog = np.array([2., 2.]) \n",
        "mass = 2 #in kg\n",
        "\n",
        "#Spring inputs\n",
        "fixed_mount = np.array([0., 2.]) #This is a point\n",
        "pivot_mount_dist = 5."
      ],
      "execution_count": 358,
      "outputs": []
    },
    {
      "cell_type": "markdown",
      "metadata": {
        "id": "mtG-cnVqauJl"
      },
      "source": [
        "###Intermediate calculation to get moving_mount as a vector"
      ]
    },
    {
      "cell_type": "code",
      "metadata": {
        "id": "3p-G0od9Wi6I"
      },
      "source": [
        "unit_vec = pivot / np.linalg.norm(pivot)\n",
        "moving_mount = unit_vec * pivot_mount_dist"
      ],
      "execution_count": 359,
      "outputs": []
    },
    {
      "cell_type": "markdown",
      "metadata": {
        "id": "IKD7_e54a8HF"
      },
      "source": [
        "###Plotting to visualize the pivot and spring setup"
      ]
    },
    {
      "cell_type": "code",
      "metadata": {
        "colab": {
          "base_uri": "https://localhost:8080/",
          "height": 298
        },
        "id": "vNl3iCp1TEpL",
        "outputId": "322ab16b-6816-4f86-c0b7-000d50c19e20"
      },
      "source": [
        "x = np.array([0, 5])\n",
        "y = np.array([0, 5])\n",
        "plt.plot(x, y, linewidth=2, c=\"blue\", label=\"Pivot\")\n",
        "\n",
        "x2 = np.array([fixed_mount[0], moving_mount[0]])\n",
        "y2 = np.array([fixed_mount[1], moving_mount[1]])\n",
        "plt.plot(x2, y2, linewidth=2, c=\"orange\", label=\"Spring\")\n",
        "plt.title(\"Visualization\", c=\"white\")\n",
        "\n",
        "plt.grid()\n",
        "plt.legend()\n",
        "\n",
        "#Orange is spring, Blue is pivot"
      ],
      "execution_count": 360,
      "outputs": [
        {
          "output_type": "execute_result",
          "data": {
            "text/plain": [
              "<matplotlib.legend.Legend at 0x7f95a4f98208>"
            ]
          },
          "metadata": {
            "tags": []
          },
          "execution_count": 360
        },
        {
          "output_type": "display_data",
          "data": {
            "image/png": "[encoded data removed]",
            "text/plain": [
              "<Figure size 432x288 with 1 Axes>"
            ]
          },
          "metadata": {
            "tags": [],
            "needs_background": "light"
          }
        }
      ]
    },
    {
      "cell_type": "code",
      "metadata": {
        "id": "Pk9sx9Mpf8B0"
      },
      "source": [
        "weight = [0, -mass * 9.81]\n",
        "curr_torque = np.cross((weight), (cog))"
      ],
      "execution_count": 361,
      "outputs": []
    },
    {
      "cell_type": "code",
      "metadata": {
        "id": "bM0SCC4Die9X"
      },
      "source": [
        "#Helper function to find angle between two vectors\n",
        "\n",
        "def angle(v1, v2):\n",
        "  return math.acos(np.dot(v1, v2) / (np.linalg.norm(v1) * np.linalg.norm(v2)))"
      ],
      "execution_count": 362,
      "outputs": []
    },
    {
      "cell_type": "markdown",
      "metadata": {
        "id": "g9obOzAC7xMJ"
      },
      "source": [
        "###Spring constant\n",
        "$F = kx$\n",
        "\n",
        "$T = F x r$"
      ]
    },
    {
      "cell_type": "code",
      "metadata": {
        "id": "1gP7SLCKStBD",
        "colab": {
          "base_uri": "https://localhost:8080/"
        },
        "outputId": "568e5292-2f64-4d39-aae4-6e9b229916ef"
      },
      "source": [
        "#CALCULATE SPRING CONSTANT FOR LATER\n",
        "\n",
        "distance_vec = moving_mount - fixed_mount #Vector between two spring mounts\n",
        "theta = (angle(pivot, distance_vec))\n",
        "\n",
        "F_s = curr_torque / ((np.sin(theta) * np.linalg.norm(moving_mount)))\n",
        "\n",
        "spring_const = F_s / np.linalg.norm(distance_vec)\n",
        "print(spring_const)\n"
      ],
      "execution_count": 363,
      "outputs": [
        {
          "output_type": "stream",
          "text": [
            "5.549374018752019\n"
          ],
          "name": "stdout"
        }
      ]
    },
    {
      "cell_type": "markdown",
      "metadata": {
        "id": "hYE-qoRW7-06"
      },
      "source": [
        "Sanity Check"
      ]
    },
    {
      "cell_type": "code",
      "metadata": {
        "id": "RalDS9pJi6Dk",
        "colab": {
          "base_uri": "https://localhost:8080/"
        },
        "outputId": "ef754185-ef16-4bc4-d035-71c66adc39d8"
      },
      "source": [
        "#check\n",
        "\n",
        "F_s = spring_const * distance_vec\n",
        "\n",
        "first_half = np.cross(F_s, moving_mount) \n",
        "second_half = (curr_torque)\n",
        "print(\"Check is: \" + (str) (np.isclose(first_half, second_half)))"
      ],
      "execution_count": 364,
      "outputs": [
        {
          "output_type": "stream",
          "text": [
            "Check is: True\n"
          ],
          "name": "stdout"
        }
      ]
    },
    {
      "cell_type": "markdown",
      "metadata": {
        "id": "y4DoUczG8Fl-"
      },
      "source": [
        "###Helper functions for loops"
      ]
    },
    {
      "cell_type": "code",
      "metadata": {
        "id": "v0QiCas00sJ6"
      },
      "source": [
        "#More helpers\n",
        "def getPivotMountVect(piv_new): #Returns the mounting vector at a new pivot arm\n",
        "  unit = piv_new / np.linalg.norm(piv_new)\n",
        "  #print(unit * pivot_mount_dist)\n",
        "  return unit * pivot_mount_dist\n",
        "\n",
        "def getTorqueSpring(piv_new): #Returns torque of spring at a new pivot arm\n",
        "  pivMount = getPivotMountVect(piv_new)\n",
        "  dist = (fixed_mount - pivMount)\n",
        "\n",
        "  F_s_temp = spring_const * dist\n",
        "  return np.cross(F_s_temp, pivMount)\n",
        "\n",
        "def getCurrentTorque(piv): #Returns torque of gravity at a new pivot arm\n",
        "  cog_t = (piv/np.linalg.norm(piv)) * np.linalg.norm(cog)\n",
        "  weight = [0, -mass * 9.81]\n",
        "  curr_torque = np.cross((cog_t), (weight))\n",
        "  return curr_torque"
      ],
      "execution_count": 365,
      "outputs": []
    },
    {
      "cell_type": "markdown",
      "metadata": {
        "id": "c72Plxjv8U0a"
      },
      "source": [
        "###Looping to get each value from 0 to 180"
      ]
    },
    {
      "cell_type": "code",
      "metadata": {
        "id": "9MlH1HxvxGfB"
      },
      "source": [
        "x = np.linspace(0, 180, 180)\n",
        "y1 = x.copy()\n",
        "y2 = x.copy()\n",
        "\n",
        "piv_len = np.linalg.norm(pivot)\n",
        "\n",
        "for i in range(len(x)):\n",
        "  piv_new = np.array([piv_len * np.cos(np.radians(x[i])), piv_len * np.sin(np.radians(x[i]))])\n",
        "  torque_spring = getTorqueSpring(piv_new)\n",
        "  y1[i] = torque_spring\n",
        "  y2[i] = getCurrentTorque(piv_new)"
      ],
      "execution_count": 366,
      "outputs": []
    },
    {
      "cell_type": "markdown",
      "metadata": {
        "id": "gwnC9bEo8YZz"
      },
      "source": [
        "#Graphing values!\n",
        "\n",
        "\n",
        "###Pretty sure it's negative below 90 is because the spring is backwards"
      ]
    },
    {
      "cell_type": "code",
      "metadata": {
        "colab": {
          "base_uri": "https://localhost:8080/",
          "height": 298
        },
        "id": "TnUWVlh02IS5",
        "outputId": "0397c794-ed30-45dd-95e2-e0d2e7e5497c"
      },
      "source": [
        "plt.title(\"Counterbalanced graph\", c=\"white\")\n",
        "plt.plot(x, y1, c=\"blue\", linewidth=2, label=\"Spring\")\n",
        "plt.plot(x, y2, c=\"orange\", linewidth=3, label=\"Gravity\", linestyle=\"dashed\")\n",
        "plt.grid()\n",
        "plt.legend()"
      ],
      "execution_count": 370,
      "outputs": [
        {
          "output_type": "execute_result",
          "data": {
            "text/plain": [
              "<matplotlib.legend.Legend at 0x7f95a4b1bba8>"
            ]
          },
          "metadata": {
            "tags": []
          },
          "execution_count": 370
        },
        {
          "output_type": "display_data",
          "data": {
            "image/png": "[encoded data removed]",
            "text/plain": [
              "<Figure size 432x288 with 1 Axes>"
            ]
          },
          "metadata": {
            "tags": [],
            "needs_background": "light"
          }
        }
      ]
    },
    {
      "cell_type": "code",
      "metadata": {
        "id": "Nq64Va6P6R7c"
      },
      "source": [
        ""
      ],
      "execution_count": 367,
      "outputs": []
    }
  ]
}